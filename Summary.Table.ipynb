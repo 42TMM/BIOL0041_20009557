{
 "cells": [
  {
   "cell_type": "code",
   "execution_count": 1,
   "id": "6d9442ae-c654-4ed6-93f4-dc853a651785",
   "metadata": {},
   "outputs": [],
   "source": [
    "import pandas as pd\n",
    "\n",
    "df = pd.read_csv('kenya_audio_2019/batdetect2/metadata/merged.csv')"
   ]
  },
  {
   "cell_type": "code",
   "execution_count": 2,
   "id": "a55d2fd9-60af-4c6a-8848-45373559c68f",
   "metadata": {},
   "outputs": [],
   "source": [
    "merged_df = pd.read_csv('merged_df.csv')"
   ]
  },
  {
   "cell_type": "code",
   "execution_count": 3,
   "id": "ff9c7753-54dd-400b-aea8-ccc1ceddde86",
   "metadata": {},
   "outputs": [],
   "source": [
    "merged_df['conservancy'] = merged_df['site'].str.extract(r'([A-Z]+)')"
   ]
  },
  {
   "cell_type": "code",
   "execution_count": 4,
   "id": "d229b233-01de-4215-8c01-3e3976fe6865",
   "metadata": {},
   "outputs": [],
   "source": [
    "merged_df['date'] = pd.to_datetime(merged_df['date'])"
   ]
  },
  {
   "cell_type": "code",
   "execution_count": null,
   "id": "59900214-3b7d-41af-b83f-526be52a1666",
   "metadata": {},
   "outputs": [],
   "source": []
  },
  {
   "cell_type": "code",
   "execution_count": 6,
   "id": "822adbbd-3780-49df-8e36-021d881fd679",
   "metadata": {},
   "outputs": [
    {
     "name": "stdout",
     "output_type": "stream",
     "text": [
      "\n",
      "Summary Table:\n",
      "   conservancy   site earliest_night latest_night  nights  files  detections\n",
      "0           MN   MN06     24/10/2019   10/11/2019      18   1566        1566\n",
      "1           MN   MN08     24/10/2019   07/11/2019      15   1242        1242\n",
      "2           MN   MN10     23/10/2019   23/10/2019       1     31          31\n",
      "3           MN   MN12     24/10/2019   27/10/2019       4    252         252\n",
      "4           MN   MN14     24/10/2019   08/11/2019      16   1412        1412\n",
      "..         ...    ...            ...          ...     ...    ...         ...\n",
      "67         OMC  OMC25     04/10/2019   21/10/2019      18   1619        1619\n",
      "68         OMC  OMC27     07/10/2019   25/10/2019      19   1434        1434\n",
      "69         OMC  OMC29     07/10/2019   23/10/2019      17   1512        1512\n",
      "70         OMC  OMC31     04/10/2019   20/10/2019      17   1555        1555\n",
      "71         OMC  OMC34     04/10/2019   22/10/2019      19   1600        1600\n",
      "\n",
      "[72 rows x 7 columns]\n"
     ]
    }
   ],
   "source": [
    "if 'presence' in merged_df.columns:\n",
    "    merged_df['detection'] = merged_df['presence'].apply(lambda x: 1 if x == 1 else 0)\n",
    "else:\n",
    "    # If presence isn't a direct indicator, you might need to adapt this logic\n",
    "    merged_df['detection'] = 1  # Assuming each row with a file is a detection\n",
    "\n",
    "# Create a summary dataframe grouped by conservancy and site\n",
    "summary = merged_df.groupby(['conservancy', 'site']).agg(\n",
    "    earliest_night=('date', 'min'),\n",
    "    latest_night=('date', 'max'),\n",
    "    nights=('date', 'nunique'),\n",
    "    files=('file_path', 'count'),\n",
    "    detections=('detection', 'sum')\n",
    ").reset_index()\n",
    "\n",
    "# Format dates to match the required format (DD/MM/YYYY)\n",
    "summary['earliest_night'] = summary['earliest_night'].dt.strftime('%d/%m/%Y')\n",
    "summary['latest_night'] = summary['latest_night'].dt.strftime('%d/%m/%Y')\n",
    "\n",
    "# Sort the dataframe by conservancy and site\n",
    "summary = summary.sort_values(['conservancy', 'site'])\n",
    "\n",
    "# Display the summary table\n",
    "print(\"\\nSummary Table:\")\n",
    "print(summary)"
   ]
  }
 ],
 "metadata": {
  "kernelspec": {
   "display_name": "Tom_Mara",
   "language": "python",
   "name": "tom_mara"
  },
  "language_info": {
   "codemirror_mode": {
    "name": "ipython",
    "version": 3
   },
   "file_extension": ".py",
   "mimetype": "text/x-python",
   "name": "python",
   "nbconvert_exporter": "python",
   "pygments_lexer": "ipython3",
   "version": "3.11.10"
  }
 },
 "nbformat": 4,
 "nbformat_minor": 5
}
