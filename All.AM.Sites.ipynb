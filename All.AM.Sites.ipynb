{
 "cells": [
  {
   "cell_type": "code",
   "execution_count": null,
   "id": "bbee9775-ebc3-412f-b985-aa4d1ac5ccbf",
   "metadata": {},
   "outputs": [],
   "source": [
    "#All sites"
   ]
  },
  {
   "cell_type": "code",
   "execution_count": 2,
   "id": "ddc9c0dd-b465-4c55-abbf-fa77cb0e3e06",
   "metadata": {},
   "outputs": [
    {
     "name": "stdout",
     "output_type": "stream",
     "text": [
      "                                                path   site\n",
      "0  downloads/biome_health_project_files/country_f...  OMC31\n",
      "1  downloads/biome_health_project_files/country_f...  OMC31\n",
      "2  downloads/biome_health_project_files/country_f...  OMC31\n",
      "3  downloads/biome_health_project_files/country_f...  OMC31\n",
      "4  downloads/biome_health_project_files/country_f...  OMC31\n"
     ]
    }
   ],
   "source": [
    "import pandas as pd\n",
    "\n",
    "df = pd.read_csv('kenya_audio_2019/batdetect2/metadata/merged.csv')\n",
    "\n",
    "df['site'] = df['path'].str.split('/').str[6]\n",
    "\n",
    "print(df[['path', 'site']].head())"
   ]
  },
  {
   "cell_type": "code",
   "execution_count": 3,
   "id": "f357be9e-5d18-42c6-bebd-4b3fcb505e9d",
   "metadata": {},
   "outputs": [],
   "source": [
    "unique_sites = df[['site']].drop_duplicates()\n",
    "\n",
    "unique_sites.to_csv('site_names.csv', index=False)\n"
   ]
  },
  {
   "cell_type": "code",
   "execution_count": null,
   "id": "a4e37103-a7b2-4f23-966b-387864d8942f",
   "metadata": {},
   "outputs": [],
   "source": []
  },
  {
   "cell_type": "code",
   "execution_count": 4,
   "id": "322387d4-c704-4c35-9ddb-83d280a4fea8",
   "metadata": {},
   "outputs": [],
   "source": [
    "#Earliest and latest time"
   ]
  },
  {
   "cell_type": "code",
   "execution_count": 5,
   "id": "6c5663a3-183b-4f07-84fa-e93572375ca2",
   "metadata": {},
   "outputs": [
    {
     "name": "stdout",
     "output_type": "stream",
     "text": [
      "Earliest datetime: 2019-09-27 07:00:00\n",
      "Latest datetime: 2019-11-11 10:45:00\n"
     ]
    }
   ],
   "source": [
    "df['datetime'] = pd.to_datetime(df['datetime'])\n",
    "\n",
    "# Extract the earliest and latest datetime\n",
    "earliest_datetime = df['datetime'].min()\n",
    "latest_datetime = df['datetime'].max()\n",
    "\n",
    "# Print the results\n",
    "print(\"Earliest datetime:\", earliest_datetime)\n",
    "print(\"Latest datetime:\", latest_datetime)"
   ]
  },
  {
   "cell_type": "code",
   "execution_count": 6,
   "id": "e2cd9424-2117-429c-8300-d89467c569a6",
   "metadata": {},
   "outputs": [],
   "source": [
    "unique_sites['conservancy'] = unique_sites['site'].str.extract(r'^([A-Za-z]+)')"
   ]
  },
  {
   "cell_type": "code",
   "execution_count": 7,
   "id": "fafa11f1-a703-46bb-ba09-8ef3da9e3fc3",
   "metadata": {},
   "outputs": [
    {
     "data": {
      "text/plain": [
       "<bound method NDFrame.head of         site conservancy\n",
       "0      OMC31         OMC\n",
       "1000    MT10          MT\n",
       "1600    NB07          NB\n",
       "2000   OMC13         OMC\n",
       "2100   OMC04         OMC\n",
       "...      ...         ...\n",
       "81367   MT03          MT\n",
       "82000   NB39          NB\n",
       "82600   MN37          MN\n",
       "84400  OMC29         OMC\n",
       "86953   MN10          MN\n",
       "\n",
       "[73 rows x 2 columns]>"
      ]
     },
     "execution_count": 7,
     "metadata": {},
     "output_type": "execute_result"
    }
   ],
   "source": [
    "unique_sites.head"
   ]
  },
  {
   "cell_type": "code",
   "execution_count": 8,
   "id": "20e633a7-6065-46c1-bbba-767bd6430e6c",
   "metadata": {},
   "outputs": [
    {
     "name": "stdout",
     "output_type": "stream",
     "text": [
      "conservancy\n",
      "NB     23\n",
      "MT     18\n",
      "MN     16\n",
      "OMC    15\n",
      "Name: count, dtype: int64\n"
     ]
    }
   ],
   "source": [
    "conservancy_counts = unique_sites['conservancy'].value_counts()\n",
    "print(conservancy_counts)"
   ]
  },
  {
   "cell_type": "code",
   "execution_count": null,
   "id": "eba2d6c3-d78d-4720-9652-940c824f495b",
   "metadata": {},
   "outputs": [],
   "source": []
  },
  {
   "cell_type": "code",
   "execution_count": 9,
   "id": "51236604-c6ca-433f-b381-3c3c8934ef0a",
   "metadata": {},
   "outputs": [],
   "source": [
    "csv_file_path = 'kenya_audio_2019/batdetect2/metadata/merged.csv'\n",
    "files_df = pd.read_csv(csv_file_path, usecols=['path'])"
   ]
  },
  {
   "cell_type": "code",
   "execution_count": 10,
   "id": "776f51f9-873c-46af-be32-303f546b3830",
   "metadata": {},
   "outputs": [
    {
     "data": {
      "text/plain": [
       "<bound method NDFrame.head of                                                     path\n",
       "0      downloads/biome_health_project_files/country_f...\n",
       "1      downloads/biome_health_project_files/country_f...\n",
       "2      downloads/biome_health_project_files/country_f...\n",
       "3      downloads/biome_health_project_files/country_f...\n",
       "4      downloads/biome_health_project_files/country_f...\n",
       "...                                                  ...\n",
       "87538  downloads/biome_health_project_files/country_f...\n",
       "87539  downloads/biome_health_project_files/country_f...\n",
       "87540  downloads/biome_health_project_files/country_f...\n",
       "87541  downloads/biome_health_project_files/country_f...\n",
       "87542  downloads/biome_health_project_files/country_f...\n",
       "\n",
       "[87543 rows x 1 columns]>"
      ]
     },
     "execution_count": 10,
     "metadata": {},
     "output_type": "execute_result"
    }
   ],
   "source": [
    "files_df.head"
   ]
  },
  {
   "cell_type": "code",
   "execution_count": 11,
   "id": "c0fd9ba2-3ef3-4f8c-89ec-eedbe0c0b4a1",
   "metadata": {},
   "outputs": [],
   "source": [
    "def extract_time(path):\n",
    "    # Extract the time \n",
    "    time_str = path.split('/')[-1].split('_')[2][:6]\n",
    "    return time_str"
   ]
  },
  {
   "cell_type": "code",
   "execution_count": 12,
   "id": "2a1c02b2-37e7-4ea1-a562-87f35f3747d1",
   "metadata": {},
   "outputs": [],
   "source": [
    "files_df['time'] = files_df['path'].apply(extract_time) \n"
   ]
  },
  {
   "cell_type": "code",
   "execution_count": 13,
   "id": "62a73390-47e9-41ae-942d-3481cc29893f",
   "metadata": {},
   "outputs": [
    {
     "data": {
      "text/plain": [
       "<bound method NDFrame.head of                                                     path    time\n",
       "0      downloads/biome_health_project_files/country_f...  171500\n",
       "1      downloads/biome_health_project_files/country_f...  144500\n",
       "2      downloads/biome_health_project_files/country_f...  104500\n",
       "3      downloads/biome_health_project_files/country_f...  180000\n",
       "4      downloads/biome_health_project_files/country_f...  223000\n",
       "...                                                  ...     ...\n",
       "87538  downloads/biome_health_project_files/country_f...  103000\n",
       "87539  downloads/biome_health_project_files/country_f...  220000\n",
       "87540  downloads/biome_health_project_files/country_f...  153000\n",
       "87541  downloads/biome_health_project_files/country_f...  214500\n",
       "87542  downloads/biome_health_project_files/country_f...  231500\n",
       "\n",
       "[87543 rows x 2 columns]>"
      ]
     },
     "execution_count": 13,
     "metadata": {},
     "output_type": "execute_result"
    }
   ],
   "source": [
    "files_df.head"
   ]
  },
  {
   "cell_type": "code",
   "execution_count": 14,
   "id": "c4fc4cf6-4c23-4572-af6e-c7eda8bcff05",
   "metadata": {},
   "outputs": [],
   "source": [
    "files_df['time'] = files_df['time'].astype(str).str.zfill(6)\n"
   ]
  },
  {
   "cell_type": "code",
   "execution_count": 15,
   "id": "62eba79f-2dd6-4d89-b618-f05700cd4233",
   "metadata": {},
   "outputs": [],
   "source": [
    "files_df['time'] = pd.to_datetime(files_df['time'], format='%H%M%S').dt.time"
   ]
  },
  {
   "cell_type": "code",
   "execution_count": 16,
   "id": "97f05414-c154-40ed-bfc9-63a2eebce857",
   "metadata": {},
   "outputs": [],
   "source": [
    "start_time = pd.to_datetime('07:00:00', format='%H:%M:%S').time()\n",
    "end_time = pd.to_datetime('17:45:00', format='%H:%M:%S').time()"
   ]
  },
  {
   "cell_type": "code",
   "execution_count": 17,
   "id": "c1261647-26d7-4733-824d-33907f4c01a8",
   "metadata": {},
   "outputs": [],
   "source": [
    "filtered_sites = files_df[\n",
    "    (files_df['time'] < start_time) | \n",
    "    (files_df['time'] > end_time)\n",
    "]"
   ]
  },
  {
   "cell_type": "code",
   "execution_count": 18,
   "id": "2f352d79-2f18-410c-86b9-2515fc2b5c1c",
   "metadata": {},
   "outputs": [
    {
     "data": {
      "text/plain": [
       "<bound method NDFrame.head of                                                     path      time\n",
       "3      downloads/biome_health_project_files/country_f...  18:00:00\n",
       "4      downloads/biome_health_project_files/country_f...  22:30:00\n",
       "5      downloads/biome_health_project_files/country_f...  23:00:00\n",
       "10     downloads/biome_health_project_files/country_f...  02:30:00\n",
       "14     downloads/biome_health_project_files/country_f...  19:30:00\n",
       "...                                                  ...       ...\n",
       "87536  downloads/biome_health_project_files/country_f...  21:00:00\n",
       "87537  downloads/biome_health_project_files/country_f...  05:15:00\n",
       "87539  downloads/biome_health_project_files/country_f...  22:00:00\n",
       "87541  downloads/biome_health_project_files/country_f...  21:45:00\n",
       "87542  downloads/biome_health_project_files/country_f...  23:15:00\n",
       "\n",
       "[46426 rows x 2 columns]>"
      ]
     },
     "execution_count": 18,
     "metadata": {},
     "output_type": "execute_result"
    }
   ],
   "source": [
    "filtered_sites.head"
   ]
  },
  {
   "cell_type": "code",
   "execution_count": 19,
   "id": "764d3dfc-81d6-409e-a63c-9797ccb7d490",
   "metadata": {},
   "outputs": [
    {
     "name": "stdout",
     "output_type": "stream",
     "text": [
      "                                                 path   site\n",
      "3   downloads/biome_health_project_files/country_f...  OMC31\n",
      "4   downloads/biome_health_project_files/country_f...  OMC31\n",
      "5   downloads/biome_health_project_files/country_f...  OMC31\n",
      "10  downloads/biome_health_project_files/country_f...  OMC31\n",
      "14  downloads/biome_health_project_files/country_f...  OMC31\n"
     ]
    },
    {
     "name": "stderr",
     "output_type": "stream",
     "text": [
      "/tmp/ipykernel_1196130/273138334.py:1: SettingWithCopyWarning: \n",
      "A value is trying to be set on a copy of a slice from a DataFrame.\n",
      "Try using .loc[row_indexer,col_indexer] = value instead\n",
      "\n",
      "See the caveats in the documentation: https://pandas.pydata.org/pandas-docs/stable/user_guide/indexing.html#returning-a-view-versus-a-copy\n",
      "  filtered_sites['site'] = filtered_sites['path'].str.split('/').str[6]\n"
     ]
    }
   ],
   "source": [
    "filtered_sites['site'] = filtered_sites['path'].str.split('/').str[6]\n",
    "\n",
    "print(filtered_sites[['path', 'site']].head())"
   ]
  },
  {
   "cell_type": "code",
   "execution_count": 20,
   "id": "d16f032f-cbfb-4668-9d59-e65880ece36f",
   "metadata": {},
   "outputs": [
    {
     "name": "stderr",
     "output_type": "stream",
     "text": [
      "/tmp/ipykernel_1196130/846961056.py:1: SettingWithCopyWarning: \n",
      "A value is trying to be set on a copy of a slice from a DataFrame.\n",
      "Try using .loc[row_indexer,col_indexer] = value instead\n",
      "\n",
      "See the caveats in the documentation: https://pandas.pydata.org/pandas-docs/stable/user_guide/indexing.html#returning-a-view-versus-a-copy\n",
      "  filtered_sites['conservancy'] = filtered_sites['site'].str.extract(r'^([A-Za-z]+)')\n"
     ]
    }
   ],
   "source": [
    "filtered_sites['conservancy'] = filtered_sites['site'].str.extract(r'^([A-Za-z]+)')"
   ]
  },
  {
   "cell_type": "code",
   "execution_count": 21,
   "id": "a5cada06-b99f-429c-9964-70bde8f169ba",
   "metadata": {},
   "outputs": [
    {
     "name": "stdout",
     "output_type": "stream",
     "text": [
      "conservancy\n",
      "NB     16145\n",
      "OMC    11378\n",
      "MT      9091\n",
      "MN      8045\n",
      "Name: count, dtype: int64\n"
     ]
    }
   ],
   "source": [
    "conservancy_counts = filtered_sites['conservancy'].value_counts()\n",
    "print(conservancy_counts)"
   ]
  },
  {
   "cell_type": "code",
   "execution_count": null,
   "id": "11348cd3-1605-4199-ad6f-fb069d717a20",
   "metadata": {},
   "outputs": [],
   "source": []
  }
 ],
 "metadata": {
  "kernelspec": {
   "display_name": "Tom_Mara",
   "language": "python",
   "name": "tom_mara"
  },
  "language_info": {
   "codemirror_mode": {
    "name": "ipython",
    "version": 3
   },
   "file_extension": ".py",
   "mimetype": "text/x-python",
   "name": "python",
   "nbconvert_exporter": "python",
   "pygments_lexer": "ipython3",
   "version": "3.11.10"
  }
 },
 "nbformat": 4,
 "nbformat_minor": 5
}
